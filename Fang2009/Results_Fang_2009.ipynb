{
 "cells": [
  {
   "metadata": {
    "jupyter": {
     "is_executing": true
    },
    "ExecuteTime": {
     "start_time": "2025-04-10T13:44:46.830413Z"
    }
   },
   "cell_type": "code",
   "source": [
    "import matplotlib.pyplot as plt\n",
    "import numpy as np\n",
    "from Q_learning import Agent\n",
    "\n",
    "legend_properties = {'weight':'bold'}\n",
    "repetitions = 200 # should be 2000 as per (Fang, 2009)\n",
    "learning_episodes = [50, 100, 150, 200, 250, 300, 350]\n",
    "\n",
    "softmax_performance_across_episodes, max_performance_across_episodes = [], []\n",
    "evaluation_tau = 20\n",
    "for episode in learning_episodes:\n",
    "    softmax_performance_across_agents, max_performance_across_agents = [], []\n",
    "    for _ in range(repetitions):\n",
    "        agent = Agent(N=10, high_peak=50, low_peak=10)\n",
    "        # make sure the same learning outcome (i.e., knowledge)\n",
    "        for index in range(episode):\n",
    "            agent.learn(tau=20, alpha=0.2, gamma=0.9)\n",
    "        # make sure they begin with the same location\n",
    "        aligned_state_index = np.random.choice(range(1, 2 ** 10 - 2)) # cannot be the peaks!!\n",
    "        # Softmax\n",
    "        agent.state = agent.int_to_binary_list(state_index = aligned_state_index)\n",
    "        agent.learn(tau=20, alpha=0.2, gamma=0.9)\n",
    "        softmax_performance_across_agents.append(agent.performance)\n",
    "        # Max\n",
    "        agent.state = agent.int_to_binary_list(state_index = aligned_state_index)\n",
    "        agent.learn(tau=0.1, alpha=0.2, gamma=0.9)\n",
    "        max_performance_across_agents.append(agent.performance)\n",
    "    softmax_performance = sum([1 if reward == 50 else 0 for reward in softmax_performance_across_agents]) / len(softmax_performance_across_agents)\n",
    "    softmax_performance_across_episodes.append(softmax_performance)\n",
    "\n",
    "    max_performance = sum([1 if reward == 50 else 0 for reward in max_performance_across_agents]) / len(max_performance_across_agents)\n",
    "    max_performance_across_episodes.append(max_performance)\n",
    "\n",
    "# Performance\n",
    "x =  [50, 100, 150, 200, 250, 300, 350]\n",
    "# x = [50, 100, 150]\n",
    "fig, ax = plt.subplots()\n",
    "ax.spines[\"left\"].set_linewidth(1.5)\n",
    "ax.spines[\"right\"].set_linewidth(1.5)\n",
    "ax.spines[\"top\"].set_linewidth(1.5)\n",
    "ax.spines[\"bottom\"].set_linewidth(1.5)\n",
    "plt.plot(x, softmax_performance_across_episodes, \"k--s\", label=\"Softmax\")\n",
    "plt.plot(x, max_performance_across_episodes, \"k-v\", label=\"Max\")\n",
    "plt.xlabel('Learning Length', fontweight='bold', fontsize=12)\n",
    "plt.ylabel('Performance', fontweight='bold', fontsize=12)\n",
    "# plt.xticks(x)\n",
    "ax.set_ylim(0.50, 0.95)\n",
    "ax.set_yticks(np.arange(0.50, 0.96, 0.05))\n",
    "plt.legend(frameon=False, ncol=1, fontsize=12)\n",
    "plt.savefig(r\"Softmax_Max_Performance.png\", transparent=True, dpi=300)\n",
    "plt.show()\n",
    "plt.clf()\n",
    "# should be start with 0.73 (max) and 0.82 (softmax)\n",
    "# at the third sample, should be as close as to 1% difference"
   ],
   "id": "859d4dd2c05811a0",
   "outputs": [],
   "execution_count": null
  },
  {
   "metadata": {
    "ExecuteTime": {
     "end_time": "2025-04-10T13:31:59.970071Z",
     "start_time": "2025-04-10T13:29:10.884633Z"
    }
   },
   "cell_type": "code",
   "source": [
    "# Test whether the maximization works\n",
    "import matplotlib.pyplot as plt\n",
    "import numpy as np\n",
    "from Q_learning import Agent\n",
    "\n",
    "legend_properties = {'weight':'bold'}\n",
    "repetitions = 100 # should be 2000 as per (Fang, 2009)\n",
    "\n",
    "max_performance_across_episodes = []\n",
    "evaluation_tau = 0.1\n",
    "max_performance_across_agents = []\n",
    "steps_across_agents = []\n",
    "for _ in range(repetitions):\n",
    "    q_agent = Agent(N=10, high_peak=50, low_peak=10)\n",
    "    for index in range(350):\n",
    "        q_agent.learn(tau=20, alpha=0.2, gamma=0.9)\n",
    "    # q_agent.evaluate(tau=evaluation_tau)\n",
    "    q_agent.learn(tau=evaluation_tau, alpha=0.2, gamma=0.9)\n",
    "    max_performance_across_agents.append(q_agent.performance)\n",
    "    steps_across_agents.append(q_agent.steps)\n",
    "performance = sum([1 if reward == 50 else 0 for reward in max_performance_across_agents]) / len(max_performance_across_agents)\n",
    "steps = sum(steps_across_agents) / len(steps_across_agents)\n",
    "print(\"Maximization\", performance, steps)\n",
    "# should be over 90%"
   ],
   "id": "618fdec6d14dad20",
   "outputs": [
    {
     "name": "stdout",
     "output_type": "stream",
     "text": [
      "Maximization 0.76 7.15\n"
     ]
    }
   ],
   "execution_count": 2
  },
  {
   "metadata": {
    "ExecuteTime": {
     "end_time": "2025-04-10T13:34:49.336641Z",
     "start_time": "2025-04-10T13:32:00.058339Z"
    }
   },
   "cell_type": "code",
   "source": [
    "# Test whether the maximization works\n",
    "import matplotlib.pyplot as plt\n",
    "import numpy as np\n",
    "from Q_learning import Agent\n",
    "\n",
    "legend_properties = {'weight':'bold'}\n",
    "repetitions = 100 # should be 2000 as per (Fang, 2009)\n",
    "\n",
    "evaluation_tau = 20\n",
    "softmax_performance_across_agents = []\n",
    "steps_across_agents = []\n",
    "for _ in range(repetitions):\n",
    "    q_agent = Agent(N=10, high_peak=50, low_peak=10)\n",
    "    for index in range(350):\n",
    "        q_agent.learn(tau=20, alpha=0.2, gamma=0.9)\n",
    "    q_agent.evaluate(tau=evaluation_tau)\n",
    "    softmax_performance_across_agents.append(q_agent.performance)\n",
    "    steps_across_agents.append(q_agent.steps)\n",
    "performance = sum([1 if reward == 50 else 0 for reward in softmax_performance_across_agents]) / len(softmax_performance_across_agents)\n",
    "steps = sum(steps_across_agents) / len(steps_across_agents)\n",
    "print(\"Softmax\", performance, steps)\n",
    "# should be between 85% and 90%"
   ],
   "id": "e05c0abd4a92d88b",
   "outputs": [
    {
     "name": "stdout",
     "output_type": "stream",
     "text": [
      "Softmax 0.81 113.17\n"
     ]
    }
   ],
   "execution_count": 3
  },
  {
   "metadata": {},
   "cell_type": "code",
   "outputs": [],
   "execution_count": null,
   "source": "",
   "id": "5abae9795882c351"
  }
 ],
 "metadata": {
  "kernelspec": {
   "display_name": "Python 3",
   "language": "python",
   "name": "python3"
  },
  "language_info": {
   "codemirror_mode": {
    "name": "ipython",
    "version": 2
   },
   "file_extension": ".py",
   "mimetype": "text/x-python",
   "name": "python",
   "nbconvert_exporter": "python",
   "pygments_lexer": "ipython2",
   "version": "2.7.6"
  }
 },
 "nbformat": 4,
 "nbformat_minor": 5
}
