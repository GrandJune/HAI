{
 "cells": [
  {
   "metadata": {
    "jupyter": {
     "is_executing": true
    },
    "ExecuteTime": {
     "start_time": "2025-04-09T12:26:57.072346Z"
    }
   },
   "cell_type": "code",
   "source": [
    "import matplotlib.pyplot as plt\n",
    "import numpy as np\n",
    "from Q_learning import Agent\n",
    "\n",
    "legend_properties = {'weight':'bold'}\n",
    "repetitions = 100 # should be 2000 as per (Fang, 2009)\n",
    "learning_episodes = [50, 100, 150, 200, 250, 300, 350]\n",
    "\n",
    "softmax_performance_across_episodes = []\n",
    "evaluation_tau = 20\n",
    "for episode in learning_episodes:\n",
    "    softmax_performance_across_agents = []\n",
    "    for _ in range(repetitions):\n",
    "        q_agent = Agent(N=10, high_peak=50, low_peak=10)\n",
    "        for index in range(episode):\n",
    "            q_agent.learn(tau=20, alpha=0.2, gamma=0.9)\n",
    "        q_agent.evaluate(tau=evaluation_tau)\n",
    "        softmax_performance_across_agents.append(q_agent.performance)\n",
    "    performance = sum([1 if reward == 50 else 0 for reward in softmax_performance_across_agents]) / len(softmax_performance_across_agents)\n",
    "    softmax_performance_across_episodes.append(performance)\n",
    "\n",
    "max_performance_across_episodes = []\n",
    "evaluation_tau = 0.1\n",
    "for episode in learning_episodes:\n",
    "    max_performance_across_agents = []\n",
    "    for _ in range(repetitions):\n",
    "        q_agent = Agent(N=10, high_peak=50, low_peak=10)\n",
    "        for index in range(episode):\n",
    "            q_agent.learn(tau=20, alpha=0.2, gamma=0.9)\n",
    "        q_agent.evaluate(tau=evaluation_tau)\n",
    "        max_performance_across_agents.append(q_agent.performance)\n",
    "    performance = sum([1 if reward == 50 else 0 for reward in max_performance_across_agents]) / len(max_performance_across_agents)\n",
    "    max_performance_across_episodes.append(performance)\n",
    "\n",
    "# Performance\n",
    "x =  [50, 100, 150, 200, 250, 300, 350]\n",
    "# x = [50, 100, 150]\n",
    "fig, ax = plt.subplots()\n",
    "ax.spines[\"left\"].set_linewidth(1.5)\n",
    "ax.spines[\"right\"].set_linewidth(1.5)\n",
    "ax.spines[\"top\"].set_linewidth(1.5)\n",
    "ax.spines[\"bottom\"].set_linewidth(1.5)\n",
    "plt.plot(x, softmax_performance_across_episodes, \"k--s\", label=\"Softmax\")\n",
    "plt.plot(x, max_performance_across_episodes, \"k-v\", label=\"Max\")\n",
    "plt.xlabel('Learning Length', fontweight='bold', fontsize=12)\n",
    "plt.ylabel('Performance', fontweight='bold', fontsize=12)\n",
    "# plt.xticks(x)\n",
    "ax.set_ylim(0.50, 0.95)\n",
    "ax.set_yticks(np.arange(0.50, 0.96, 0.05))\n",
    "plt.legend(frameon=False, ncol=1, fontsize=12)\n",
    "plt.savefig(r\"Softmax_Max_Performance.png\", transparent=True, dpi=300)\n",
    "plt.show()\n",
    "plt.clf()\n",
    "# should be start with 0.73 (max) and 0.82 (softmax)\n",
    "# at the third sample, should be as close as to 1% difference"
   ],
   "id": "859d4dd2c05811a0",
   "outputs": [],
   "execution_count": null
  }
 ],
 "metadata": {
  "kernelspec": {
   "display_name": "Python 3",
   "language": "python",
   "name": "python3"
  },
  "language_info": {
   "codemirror_mode": {
    "name": "ipython",
    "version": 2
   },
   "file_extension": ".py",
   "mimetype": "text/x-python",
   "name": "python",
   "nbconvert_exporter": "python",
   "pygments_lexer": "ipython2",
   "version": "2.7.6"
  }
 },
 "nbformat": 4,
 "nbformat_minor": 5
}
