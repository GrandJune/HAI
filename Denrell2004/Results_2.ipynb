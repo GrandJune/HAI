{
 "cells": [
  {
   "metadata": {
    "ExecuteTime": {
     "end_time": "2025-04-09T11:16:56.140754Z",
     "start_time": "2025-04-09T11:16:56.135554Z"
    }
   },
   "cell_type": "code",
   "source": [
    "import matplotlib.pyplot as plt\n",
    "import itertools\n",
    "import pickle\n",
    "legend_properties = {'weight':'bold'}\n",
    "\n",
    "def get_indices_at_hamming_distance(base_index, dimension, hamming_dist):\n",
    "    indices = []\n",
    "    positions = range(dimension)\n",
    "\n",
    "    # Flip exactly 'hamming_dist' bits\n",
    "    for bits_to_flip in itertools.combinations(positions, hamming_dist):\n",
    "        mask = 0\n",
    "        for pos in bits_to_flip:\n",
    "            mask |= (1 << pos)  # set bit at position `pos` to 1\n",
    "        new_index = base_index ^ mask  # flip bits using XOR\n",
    "        indices.append(new_index)\n",
    "\n",
    "    return indices\n",
    "\n",
    "dimension = 10\n",
    "base_index = 2 ** dimension - 1  # [1, 1, ..., 1] in binary → 1023\n",
    "index_across_distance = []\n",
    "for hamming_distance in range(1, 11):\n",
    "    index_list = get_indices_at_hamming_distance(base_index, dimension, hamming_distance)\n",
    "    print(len(index_list))\n",
    "    index_across_distance.append(index_list)\n"
   ],
   "id": "859d4dd2c05811a0",
   "outputs": [
    {
     "name": "stdout",
     "output_type": "stream",
     "text": [
      "10\n",
      "45\n",
      "120\n",
      "210\n",
      "252\n",
      "210\n",
      "120\n",
      "45\n",
      "10\n",
      "1\n"
     ]
    }
   ],
   "execution_count": 2
  },
  {
   "metadata": {
    "jupyter": {
     "is_executing": true
    },
    "ExecuteTime": {
     "start_time": "2025-04-09T11:18:17.423411Z"
    }
   },
   "cell_type": "code",
   "source": [
    "from Organization import Organization\n",
    "import numpy as np\n",
    "learning_episode = 100\n",
    "result_across_firms = []\n",
    "gamma = 0.9\n",
    "for _ in range(100):\n",
    "    firm = Organization(N=10, peak=1, agent_num=1000)\n",
    "    for _ in range(learning_episode):\n",
    "        firm.learn(alpha=0.2, gamma=gamma)\n",
    "    max_q_across_distance = []\n",
    "    for index_list in index_across_distance:\n",
    "        q_values_at_the_same_distance = []\n",
    "        for index in index_list:\n",
    "            q_values_at_the_same_distance.append(max(firm.Q_table[index]))\n",
    "        ave_max_q_value = sum(q_values_at_the_same_distance) / len(q_values_at_the_same_distance)\n",
    "        max_q_across_distance.append(ave_max_q_value)\n",
    "    result_across_firms.append(max_q_across_distance)\n",
    "average_list_1 = np.mean(result_across_firms, axis=0)\n",
    "\n",
    "result_across_firms = []\n",
    "gamma = 0\n",
    "for _ in range(100):\n",
    "    firm = Organization(N=10, peak=1, agent_num=1000)\n",
    "    for _ in range(learning_episode):\n",
    "        firm.learn(alpha=0.2, gamma=gamma)\n",
    "    max_q_across_distance = []\n",
    "    for index_list in index_across_distance:\n",
    "        q_values_at_the_same_distance = []\n",
    "        for index in index_list:\n",
    "            q_values_at_the_same_distance.append(max(firm.Q_table[index]))\n",
    "        ave_max_q_value = sum(q_values_at_the_same_distance) / len(q_values_at_the_same_distance)\n",
    "        max_q_across_distance.append(ave_max_q_value)\n",
    "    result_across_firms.append(max_q_across_distance)\n",
    "average_list_2 = np.mean(result_across_firms, axis=0)\n",
    "\n",
    "# Figure 1: Ave Max Q across Hamming Distance (as of the end of episode 100)\n",
    "x =  range(1, 11)\n",
    "# x = [50, 100, 150]\n",
    "fig, ax = plt.subplots()\n",
    "ax.spines[\"left\"].set_linewidth(1.5)\n",
    "ax.spines[\"right\"].set_linewidth(1.5)\n",
    "ax.spines[\"top\"].set_linewidth(1.5)\n",
    "ax.spines[\"bottom\"].set_linewidth(1.5)\n",
    "plt.plot(x, average_list_1, \"k-s\", label=r\"$\\gamma={0}$\".format(0.9))\n",
    "plt.plot(x, average_list_2, \"k--s\", label=r\"$\\gamma={0}$\".format(0))\n",
    "plt.xlabel(\"Hamming Distance\", fontweight='bold', fontsize=12)\n",
    "plt.ylabel('Average Max Q', fontweight='bold', fontsize=12)\n",
    "plt.xticks(x)\n",
    "# ax.set_ylim(0, 0.7)\n",
    "plt.legend(frameon=False, ncol=1, fontsize=12)\n",
    "plt.savefig(r\"Max_Q_across_Hamming_2.png\", transparent=True, dpi=300)\n",
    "plt.show()\n",
    "plt.clf()\n",
    "# should be start with 0.73 (max) and 0.82 (softmax)\n",
    "# at the third sample, should be as close as to 1% difference"
   ],
   "id": "d8f7ff041a566fb4",
   "outputs": [
    {
     "name": "stderr",
     "output_type": "stream",
     "text": [
      "<>:44: SyntaxWarning: invalid escape sequence '\\g'\n",
      "<>:45: SyntaxWarning: invalid escape sequence '\\g'\n",
      "<>:44: SyntaxWarning: invalid escape sequence '\\g'\n",
      "<>:45: SyntaxWarning: invalid escape sequence '\\g'\n",
      "/var/folders/5j/zv24284j7w7b6xlkz4y68b6h0000gn/T/ipykernel_14040/999637222.py:44: SyntaxWarning: invalid escape sequence '\\g'\n",
      "  plt.plot(x, average_list_1, \"k-s\", label=\"$\\gamma={0}$\".format(0.9))\n",
      "/var/folders/5j/zv24284j7w7b6xlkz4y68b6h0000gn/T/ipykernel_14040/999637222.py:45: SyntaxWarning: invalid escape sequence '\\g'\n",
      "  plt.plot(x, average_list_2, \"k--s\", label=\"$\\gamma={0}$\".format(0))\n"
     ]
    }
   ],
   "execution_count": null
  },
  {
   "metadata": {
    "ExecuteTime": {
     "end_time": "2025-04-07T14:04:53.240608Z",
     "start_time": "2025-04-07T14:03:13.703700Z"
    }
   },
   "cell_type": "code",
   "source": [
    "# Time to Solution as Organizational Performance\n",
    "from Q_learning import Agent\n",
    "import numpy as np\n",
    "\n",
    "# gamma = 0\n",
    "steps_gamma_0 = []\n",
    "steps_across_episode_agent = []\n",
    "for _ in range(100):\n",
    "    q_agent = Agent(N=10, peak=1)\n",
    "    steps_across_episode = []\n",
    "    for index in range(100):\n",
    "        q_agent.learn(alpha=0.2, gamma=0)\n",
    "        steps_across_episode.append(q_agent.steps)\n",
    "    steps_across_episode_agent.append(steps_across_episode)\n",
    "steps_gamma_0 = np.mean(steps_across_episode_agent, axis=0)\n",
    "\n",
    "# gamma = 0.9\n",
    "steps_gamma_09 = []\n",
    "steps_across_episode_agent = []\n",
    "for _ in range(100):\n",
    "    np.random.seed(None)\n",
    "    q_agent = Agent(N=10, peak=2)\n",
    "    steps_across_episode = []\n",
    "    for index in range(100):\n",
    "        q_agent.learn(alpha=0.2, gamma=0.9)\n",
    "        steps_across_episode.append(q_agent.steps)\n",
    "    steps_across_episode_agent.append(steps_across_episode)\n",
    "steps_gamma_09 = np.mean(steps_across_episode_agent, axis=0)\n",
    "\n",
    "# Figure 1: Ave Max Q across Hamming Distance\n",
    "x =  range(1, 101)\n",
    "# x = [50, 100, 150]\n",
    "fig, ax = plt.subplots()\n",
    "ax.spines[\"left\"].set_linewidth(1.5)\n",
    "ax.spines[\"right\"].set_linewidth(1.5)\n",
    "ax.spines[\"top\"].set_linewidth(1.5)\n",
    "ax.spines[\"bottom\"].set_linewidth(1.5)\n",
    "plt.plot(x, steps_gamma_0, \"k--\", label=\"$\\gamma={0}$\".format(0))\n",
    "plt.plot(x, steps_gamma_09, \"k-\", label=\"$\\gamma={0}$\".format(0.9))\n",
    "# plt.plot(x, max_performance, \"k-v\", label=\"Max\")\n",
    "plt.xlabel(\"Episode\", fontweight='bold', fontsize=12)\n",
    "plt.ylabel('Steps', fontweight='bold', fontsize=12)\n",
    "# plt.xticks(x)\n",
    "# ax.set_ylim(0, 0.7)\n",
    "plt.legend(frameon=False, ncol=1, fontsize=12)\n",
    "plt.savefig(r\"Steps_across_episode.png\", transparent=True, dpi=300)\n",
    "plt.show()\n",
    "plt.clf()\n",
    "print(\"Gamma=0: \", steps_gamma_0)\n",
    "print(\"Gamma=0.9: \", steps_gamma_09)\n",
    "# should be start with 0.73 (max) and 0.82 (softmax)\n",
    "# at the third sample, should be as close as to 1% difference"
   ],
   "id": "fd7c9e78bc7b7a81",
   "outputs": [
    {
     "data": {
      "text/plain": [
       "<Figure size 432x288 with 1 Axes>"
      ],
      "image/png": "[encoded data removed]"
     },
     "metadata": {
      "needs_background": "light"
     },
     "output_type": "display_data"
    },
    {
     "name": "stdout",
     "output_type": "stream",
     "text": [
      "Gamma=0:  [1368.42  630.85  563.29  611.5   453.98  451.19  435.65  403.    432.76\n",
      "  438.62  277.6   299.39  350.07  299.45  367.78  251.04  281.74  313.19\n",
      "  283.24  264.08  310.88  281.27  241.    231.29  255.7   223.52  247.88\n",
      "  259.9   246.98  292.42  246.32  279.45  227.77  282.15  231.45  236.14\n",
      "  265.79  231.28  232.6   227.99  214.89  253.63  230.16  224.64  205.26\n",
      "  236.31  210.48  241.83  283.63  198.83  180.45  206.87  291.88  226.99\n",
      "  206.68  179.04  206.25  241.47  208.9   215.8   205.49  222.85  202.66\n",
      "  227.47  243.27  220.46  210.88  191.92  237.02  189.89  231.86  199.93\n",
      "  210.96  206.03  174.4   196.18  262.76  223.28  217.98  180.35  177.74\n",
      "  201.24  216.82  180.8   219.11  172.63  189.94  185.56  213.63  187.58\n",
      "  174.74  168.65  189.5   169.54  210.17  189.    170.82  183.03  210.96\n",
      "  173.69]\n",
      "Gamma=0.9:  [1371.31  697.52  522.44  429.09  299.2   262.57  223.51  223.41  156.07\n",
      "  212.76  156.51  150.76  136.96  114.78  121.34  112.64  109.11  108.01\n",
      "  107.74  109.15   93.6   107.76   98.62   86.06   64.18   75.51   79.23\n",
      "   70.45   77.73   59.18   61.33   67.51   63.51   59.14   56.96   55.72\n",
      "   60.65   55.05   61.78   62.6    52.15   45.88   52.88   44.2    43.9\n",
      "   43.31   45.06   46.71   39.75   39.67   37.67   34.45   40.06   42.61\n",
      "   32.02   35.71   38.18   38.62   40.32   39.66   36.8    33.95   31.25\n",
      "   27.11   34.55   38.     36.5    33.59   31.45   31.36   26.94   30.7\n",
      "   29.     29.27   23.67   30.6    30.21   34.22   30.05   26.69   25.86\n",
      "   22.92   26.62   30.19   23.15   25.2    28.14   26.57   27.27   24.11\n",
      "   21.49   26.6    28.56   22.74   24.31   23.05   23.59   21.76   21.73\n",
      "   23.36]\n"
     ]
    },
    {
     "data": {
      "text/plain": [
       "<Figure size 432x288 with 0 Axes>"
      ]
     },
     "metadata": {},
     "output_type": "display_data"
    }
   ],
   "execution_count": 10
  },
  {
   "metadata": {
    "ExecuteTime": {
     "end_time": "2025-04-08T13:20:28.234243Z",
     "start_time": "2025-04-08T13:17:42.872077Z"
    }
   },
   "cell_type": "code",
   "source": [
    "# Time to Solution as Organizational Performance\n",
    "# add lambda, the length of updated preceding state-action pairs\n",
    "from Q_learning import Agent\n",
    "import numpy as np\n",
    "\n",
    "# lambda_ = 1\n",
    "steps_lambda_1 = []\n",
    "steps_across_episode_agent = []\n",
    "for _ in range(100):\n",
    "    np.random.seed(None)\n",
    "    q_agent = Agent(N=10, peak=1)\n",
    "    steps_across_episode = []\n",
    "    for index in range(100):\n",
    "        q_agent.learn(alpha=0.2, gamma=0)\n",
    "        steps_across_episode.append(q_agent.steps)\n",
    "    steps_across_episode_agent.append(steps_across_episode)\n",
    "steps_lambda_1 = np.mean(steps_across_episode_agent, axis=0)\n",
    "\n",
    "lambda_ = 5\n",
    "steps_lambda_5 = []\n",
    "steps_across_episode_agent = []\n",
    "for _ in range(100):\n",
    "    np.random.seed(None)\n",
    "    q_agent = Agent(N=10, peak=1)\n",
    "    steps_across_episode = []\n",
    "    for index in range(100):\n",
    "        q_agent.learn_with_lambda(alpha=0.2, gamma=0, lambda_=lambda_)\n",
    "        steps_across_episode.append(q_agent.steps)\n",
    "    steps_across_episode_agent.append(steps_across_episode)\n",
    "steps_lambda_5 = np.mean(steps_across_episode_agent, axis=0)\n",
    "\n",
    "lambda_ = 30\n",
    "steps_lambda_30 = []\n",
    "steps_across_episode_agent = []\n",
    "for _ in range(100):\n",
    "    np.random.seed(None)\n",
    "    q_agent = Agent(N=10, peak=1)\n",
    "    steps_across_episode = []\n",
    "    for index in range(100):\n",
    "        q_agent.learn_with_lambda(alpha=0.2, gamma=0.9, lambda_=lambda_)\n",
    "        steps_across_episode.append(q_agent.steps)\n",
    "    steps_across_episode_agent.append(steps_across_episode)\n",
    "steps_lambda_30 = np.mean(steps_across_episode_agent, axis=0)\n",
    "\n",
    "# Figure 1: Ave Max Q across Hamming Distance\n",
    "x =  range(1, 101)\n",
    "# x = [50, 100, 150]\n",
    "fig, ax = plt.subplots()\n",
    "ax.spines[\"left\"].set_linewidth(1.5)\n",
    "ax.spines[\"right\"].set_linewidth(1.5)\n",
    "ax.spines[\"top\"].set_linewidth(1.5)\n",
    "ax.spines[\"bottom\"].set_linewidth(1.5)\n",
    "plt.plot(x, steps_lambda_1, \"k-\", label=\"$\\lambda={0}$\".format(1))\n",
    "plt.plot(x, steps_lambda_5, \"k--\", label=\"$\\lambda={0}$\".format(5))\n",
    "plt.plot(x, steps_lambda_30, \"k:\", label=\"$\\lambda={0}$\".format(30))\n",
    "# plt.plot(x, max_performance, \"k-v\", label=\"Max\")\n",
    "plt.xlabel(\"Episode\", fontweight='bold', fontsize=12)\n",
    "plt.ylabel('Steps', fontweight='bold', fontsize=12)\n",
    "# plt.xticks(x)\n",
    "# ax.set_ylim(0, 0.7)\n",
    "plt.legend(frameon=False, ncol=1, fontsize=12)\n",
    "plt.savefig(r\"Steps_across_episode_lambda.png\", transparent=True, dpi=300)\n",
    "plt.show()\n",
    "plt.clf()\n",
    "print(\"Lambda=5: \", steps_lambda_5)\n",
    "print(\"Lambda=30: \", steps_lambda_30)\n",
    "# should be start with 0.73 (max) and 0.82 (softmax)\n",
    "# at the third sample, should be as close as to 1% difference"
   ],
   "id": "9f4c78ec55a4aad0",
   "outputs": [
    {
     "data": {
      "text/plain": [
       "<Figure size 432x288 with 1 Axes>"
      ],
      "image/png": "[encoded data removed]"
     },
     "metadata": {
      "needs_background": "light"
     },
     "output_type": "display_data"
    },
    {
     "name": "stdout",
     "output_type": "stream",
     "text": [
      "Lambda=5:  [1275.16  304.05  230.12  192.87  180.9   159.56  145.02  120.6   125.05\n",
      "  146.24   96.92   85.04   89.41   81.04   89.38   89.91   98.66   86.73\n",
      "   62.28   69.77   74.64   74.88   79.19   62.44   56.34   61.29   62.89\n",
      "   54.95   51.09   51.97   48.9    51.34   46.18   64.36   55.92   49.46\n",
      "   48.15   46.37   47.18   43.78   40.7    45.37   43.5    39.92   45.62\n",
      "   41.09   34.46   36.83   38.66   39.92   40.51   36.77   34.1    36.56\n",
      "   37.07   29.64   37.7    38.17   43.41   29.78   31.4    37.06   32.77\n",
      "   38.16   43.05   34.13   40.08   34.17   29.2    36.34   30.47   31.73\n",
      "   34.06   33.55   29.3    34.02   31.27   32.16   31.37   29.35   29.53\n",
      "   24.12   32.08   25.67   27.53   27.13   26.24   29.59   32.56   30.61\n",
      "   31.62   30.22   25.72   26.74   28.94   27.6    25.26   27.     31.15\n",
      "   30.37]\n",
      "Lambda=30:  [1409.62  110.9    80.09   71.56   65.37   61.5    62.58   58.39   57.59\n",
      "   59.59   55.65   54.01   52.4    52.38   52.17   54.75   56.38   50.26\n",
      "   52.57   53.45   47.12   52.12   51.75   50.09   49.68   45.85   51.41\n",
      "   50.53   51.37   48.74   48.96   49.15   46.61   50.7    49.37   45.79\n",
      "   49.67   50.96   47.55   49.88   48.89   52.56   48.73   49.09   48.53\n",
      "   54.86   49.74   44.77   45.07   48.2    48.9    49.11   50.58   51.02\n",
      "   48.58   44.46   46.86   48.51   47.85   47.89   49.49   50.1    51.23\n",
      "   47.76   47.72   44.12   48.06   48.28   50.98   49.33   48.9    48.08\n",
      "   47.88   50.14   50.2    48.75   46.62   44.8    45.89   48.55   45.76\n",
      "   46.81   45.94   47.69   43.06   46.78   47.22   48.7    44.4    44.67\n",
      "   45.95   42.84   43.29   46.03   46.6    47.64   42.36   42.83   46.43\n",
      "   47.64]\n"
     ]
    },
    {
     "data": {
      "text/plain": [
       "<Figure size 432x288 with 0 Axes>"
      ]
     },
     "metadata": {},
     "output_type": "display_data"
    }
   ],
   "execution_count": 2
  },
  {
   "metadata": {
    "ExecuteTime": {
     "end_time": "2025-04-08T12:01:33.543859Z",
     "start_time": "2025-04-08T12:01:33.532857Z"
    }
   },
   "cell_type": "code",
   "source": "",
   "id": "b0865071f4f91bd5",
   "outputs": [
    {
     "name": "stdout",
     "output_type": "stream",
     "text": [
      "[]\n"
     ]
    }
   ],
   "execution_count": 13
  },
  {
   "metadata": {},
   "cell_type": "code",
   "outputs": [],
   "execution_count": null,
   "source": "",
   "id": "1108196bd1f002b5"
  }
 ],
 "metadata": {
  "kernelspec": {
   "display_name": "Python 3",
   "language": "python",
   "name": "python3"
  },
  "language_info": {
   "codemirror_mode": {
    "name": "ipython",
    "version": 2
   },
   "file_extension": ".py",
   "mimetype": "text/x-python",
   "name": "python",
   "nbconvert_exporter": "python",
   "pygments_lexer": "ipython2",
   "version": "2.7.6"
  }
 },
 "nbformat": 4,
 "nbformat_minor": 5
}
