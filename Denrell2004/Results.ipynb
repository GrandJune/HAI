{
 "cells": [
  {
   "metadata": {
    "ExecuteTime": {
     "end_time": "2025-04-05T14:48:42.074965Z",
     "start_time": "2025-04-05T14:48:41.566744Z"
    }
   },
   "cell_type": "code",
   "source": [
    "import matplotlib.pyplot as plt\n",
    "import itertools\n",
    "import pickle\n",
    "legend_properties = {'weight':'bold'}\n",
    "\n",
    "def get_indices_at_hamming_distance(base_index, dimension, hamming_dist):\n",
    "    indices = []\n",
    "    positions = range(dimension)\n",
    "\n",
    "    # Flip exactly 'hamming_dist' bits\n",
    "    for bits_to_flip in itertools.combinations(positions, hamming_dist):\n",
    "        mask = 0\n",
    "        for pos in bits_to_flip:\n",
    "            mask |= (1 << pos)  # set bit at position `pos` to 1\n",
    "        new_index = base_index ^ mask  # flip bits using XOR\n",
    "        indices.append(new_index)\n",
    "\n",
    "    return indices\n",
    "\n",
    "dimension = 10\n",
    "base_index = 2 ** dimension - 1  # [1, 1, ..., 1] in binary → 1023\n",
    "index_across_distance = []\n",
    "for hamming_distance in range(1, 11):\n",
    "    index_list = get_indices_at_hamming_distance(base_index, dimension, hamming_distance)\n",
    "    print(len(index_list))\n",
    "    index_across_distance.append(index_list)\n"
   ],
   "id": "859d4dd2c05811a0",
   "outputs": [
    {
     "name": "stdout",
     "output_type": "stream",
     "text": [
      "10\n",
      "45\n",
      "120\n",
      "210\n",
      "252\n",
      "210\n",
      "120\n",
      "45\n",
      "10\n",
      "1\n"
     ]
    }
   ],
   "execution_count": 1
  },
  {
   "metadata": {
    "ExecuteTime": {
     "end_time": "2025-04-05T14:54:53.911043Z",
     "start_time": "2025-04-05T14:50:36.210890Z"
    }
   },
   "cell_type": "code",
   "source": [
    "from Q_learning import Agent\n",
    "import numpy as np\n",
    "results = []\n",
    "gamma = 0.9\n",
    "for _ in range(1000):\n",
    "    q_agent = Agent(N=10, peak=1)\n",
    "    for index in range(100):\n",
    "        q_agent.learn(alpha=0.2, gamma=gamma)\n",
    "    max_q_across_distance = []\n",
    "    for index_list in index_across_distance:\n",
    "        q_values = []\n",
    "        for index in index_list:\n",
    "            q_values.append(max(q_agent.Q_table[index]))\n",
    "        max_q_value = sum(q_values) / len(q_values)\n",
    "        max_q_across_distance.append(max_q_value)\n",
    "    results.append(max_q_across_distance)\n",
    "average_list = np.mean(results, axis=0)\n",
    "# Figure 1: Ave Max Q across Hamming Distance\n",
    "x =  range(1, 11)\n",
    "# x = [50, 100, 150]\n",
    "fig, ax = plt.subplots()\n",
    "ax.spines[\"left\"].set_linewidth(1.5)\n",
    "ax.spines[\"right\"].set_linewidth(1.5)\n",
    "ax.spines[\"top\"].set_linewidth(1.5)\n",
    "ax.spines[\"bottom\"].set_linewidth(1.5)\n",
    "plt.plot(x, average_list, \"k--s\", label=\"$\\gamma={0}$\".format(gamma))\n",
    "# plt.plot(x, max_performance, \"k-v\", label=\"Max\")\n",
    "plt.xlabel(\"Hamming Distance\", fontweight='bold', fontsize=12)\n",
    "plt.ylabel('Average Max Q', fontweight='bold', fontsize=12)\n",
    "plt.xticks(x)\n",
    "# ax.set_ylim(0, 0.7)\n",
    "plt.legend(frameon=False, ncol=1, fontsize=12)\n",
    "plt.savefig(r\"\\Max_Q_across_Hamming.png\", transparent=True, dpi=300)\n",
    "plt.show()\n",
    "plt.clf()\n",
    "# should be start with 0.73 (max) and 0.82 (softmax)\n",
    "# at the third sample, should be as close as to 1% difference"
   ],
   "id": "d8f7ff041a566fb4",
   "outputs": [
    {
     "data": {
      "text/plain": [
       "<Figure size 432x288 with 1 Axes>"
      ],
      "image/png": "[encoded data removed]"
     },
     "metadata": {
      "needs_background": "light"
     },
     "output_type": "display_data"
    },
    {
     "data": {
      "text/plain": [
       "<Figure size 432x288 with 0 Axes>"
      ]
     },
     "metadata": {},
     "output_type": "display_data"
    }
   ],
   "execution_count": 3
  },
  {
   "metadata": {},
   "cell_type": "code",
   "source": [
    "from Q_learning import Agent\n",
    "import numpy as np\n",
    "results = []\n",
    "gamma = 0\n",
    "for _ in range(100):\n",
    "    q_agent = Agent(N=10, peak=1)\n",
    "    for index in range(100):\n",
    "        q_agent.learn(alpha=0.2, gamma=gamma)\n",
    "    max_q_across_distance = []\n",
    "    for index_list in index_across_distance:\n",
    "        q_values = []\n",
    "        for index in index_list:\n",
    "            q_values.append(max(q_agent.Q_table[index]))\n",
    "        max_q_value = sum(q_values) / len(q_values)\n",
    "        max_q_across_distance.append(max_q_value)\n",
    "    results.append(max_q_across_distance)\n",
    "average_list = np.mean(results, axis=0)\n",
    "# Figure 1: Ave Max Q across Hamming Distance\n",
    "x =  range(1, 11)\n",
    "# x = [50, 100, 150]\n",
    "fig, ax = plt.subplots()\n",
    "ax.spines[\"left\"].set_linewidth(1.5)\n",
    "ax.spines[\"right\"].set_linewidth(1.5)\n",
    "ax.spines[\"top\"].set_linewidth(1.5)\n",
    "ax.spines[\"bottom\"].set_linewidth(1.5)\n",
    "plt.plot(x, average_list, \"k--s\", label=\"$\\gamma={0}$\".format(gamma))\n",
    "# plt.plot(x, max_performance, \"k-v\", label=\"Max\")\n",
    "plt.xlabel(\"Hamming Distance\", fontweight='bold', fontsize=12)\n",
    "plt.ylabel('Average Max Q', fontweight='bold', fontsize=12)\n",
    "plt.xticks(x)\n",
    "# ax.set_ylim(0, 0.7)\n",
    "plt.legend(frameon=False, ncol=1, fontsize=12)\n",
    "plt.savefig(r\"\\Max_Q_across_Hamming.png\", transparent=True, dpi=300)\n",
    "plt.show()\n",
    "plt.clf()\n",
    "# should be start with 0.73 (max) and 0.82 (softmax)\n",
    "# at the third sample, should be as close as to 1% difference"
   ],
   "id": "330e8a6db8ae06b3",
   "outputs": [],
   "execution_count": null
  },
  {
   "metadata": {},
   "cell_type": "code",
   "source": [
    "# Time to Solution as Organizational Performance\n",
    "# TBD"
   ],
   "id": "fd7c9e78bc7b7a81",
   "outputs": [],
   "execution_count": null
  },
  {
   "metadata": {},
   "cell_type": "code",
   "source": "",
   "id": "9f4c78ec55a4aad0",
   "outputs": [],
   "execution_count": null
  },
  {
   "metadata": {},
   "cell_type": "code",
   "source": "",
   "id": "b0865071f4f91bd5",
   "outputs": [],
   "execution_count": null
  }
 ],
 "metadata": {
  "kernelspec": {
   "display_name": "Python 3",
   "language": "python",
   "name": "python3"
  },
  "language_info": {
   "codemirror_mode": {
    "name": "ipython",
    "version": 2
   },
   "file_extension": ".py",
   "mimetype": "text/x-python",
   "name": "python",
   "nbconvert_exporter": "python",
   "pygments_lexer": "ipython2",
   "version": "2.7.6"
  }
 },
 "nbformat": 4,
 "nbformat_minor": 5
}
