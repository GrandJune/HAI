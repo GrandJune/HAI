{
 "cells": [
  {
   "cell_type": "code",
   "execution_count": null,
   "id": "initial_id",
   "metadata": {
    "collapsed": true
   },
   "outputs": [],
   "source": [
    "from Q_learning import Agent\n",
    "\n",
    "q_agent = Agent(N=10, global_peak=50, local_peaks=[10])\n",
    "learning_length = [50, 100, 150, 200, 250, 300, 350]\n",
    "for steps in learning_length:\n",
    "    for _ in range(steps):\n",
    "        # learning phrase\n",
    "        reward = q_agent.search(tau=20)\n",
    "    # performance measure\n",
    "    # maximization strategy tau = 0.1\n",
    "    max_reward = q_agent.search(tau=0.1)\n",
    "    # softmax strategy tau = 20\n",
    "    # softmax_reward = q_agent.search(tau=20)\n"
   ]
  }
 ],
 "metadata": {
  "kernelspec": {
   "display_name": "Python 3",
   "language": "python",
   "name": "python3"
  },
  "language_info": {
   "codemirror_mode": {
    "name": "ipython",
    "version": 2
   },
   "file_extension": ".py",
   "mimetype": "text/x-python",
   "name": "python",
   "nbconvert_exporter": "python",
   "pygments_lexer": "ipython2",
   "version": "2.7.6"
  }
 },
 "nbformat": 4,
 "nbformat_minor": 5
}
