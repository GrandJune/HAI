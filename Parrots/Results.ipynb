{
 "cells": [
  {
   "metadata": {
    "ExecuteTime": {
     "end_time": "2025-06-11T08:26:17.593944Z",
     "start_time": "2025-06-11T08:26:17.580915Z"
    }
   },
   "cell_type": "code",
   "source": [
    "import os\n",
    "import matplotlib.pyplot as plt\n",
    "import pickle\n",
    "import numpy as np\n",
    "\n",
    "legend_properties = {'weight': 'bold'}\n",
    "\n",
    "# data_folder = \"/Users/junyi/Desktop/data/Parrots/\"\n",
    "data_folder = r\"E:\\data\\hai-0520\\Turbulence_3\\Parrots\"\n",
    "organic_performance_file = os.path.join(data_folder, \"organic_performance_across_episodes\")\n",
    "organic_knowledge_file = os.path.join(data_folder, \"organic_knowledge_across_episodes\")\n",
    "organic_steps_file = os.path.join(data_folder, \"organic_steps_across_episodes\")\n",
    "organic_knowledge_quality_file = os.path.join(data_folder, \"organic_knowledge_quality_across_episodes\")\n",
    "\n",
    "pair_performance_file = os.path.join(data_folder, \"pair_performance_across_episodes\")\n",
    "pair_knowledge_file = os.path.join(data_folder, \"pair_knowledge_across_episodes\")\n",
    "pair_steps_file = os.path.join(data_folder, \"pair_steps_across_episodes\")\n",
    "pair_knowledge_quality_file = os.path.join(data_folder, \"pair_knowledge_quality_across_episodes\")\n",
    "\n",
    "\n",
    "with open(organic_performance_file, 'rb') as infile:\n",
    "    organic_performance_across_episodes = pickle.load(infile)\n",
    "with open(organic_knowledge_file, 'rb') as infile:\n",
    "    organic_knowledge_across_episodes = pickle.load(infile)\n",
    "with open(organic_steps_file, 'rb') as infile:\n",
    "    organic_steps_across_episodes = pickle.load(infile)\n",
    "with open(organic_knowledge_quality_file, 'rb') as infile:\n",
    "    organic_knowledge_quality_across_episodes = pickle.load(infile)\n",
    "\n",
    "with open(pair_performance_file, 'rb') as infile:\n",
    "    pair_performance_across_episodes = pickle.load(infile)\n",
    "with open(pair_knowledge_file, 'rb') as infile:\n",
    "    pair_knowledge_across_episodes = pickle.load(infile)\n",
    "with open(pair_steps_file, 'rb') as infile:\n",
    "    pair_steps_across_episodes = pickle.load(infile)\n",
    "with open(pair_knowledge_quality_file, 'rb') as infile:\n",
    "    pair_knowledge_quality_across_episodes = pickle.load(infile)"
   ],
   "id": "859d4dd2c05811a0",
   "outputs": [],
   "execution_count": 13
  },
  {
   "metadata": {
    "ExecuteTime": {
     "end_time": "2025-06-11T08:26:18.570958Z",
     "start_time": "2025-06-11T08:26:18.557965Z"
    }
   },
   "cell_type": "code",
   "source": [
    "# import os\n",
    "#\n",
    "# data_folder = \"/Users/junyi/Desktop/data\"\n",
    "#\n",
    "# if os.path.exists(data_folder):\n",
    "#     print(f\"Folder found: {data_folder}\")\n",
    "#     print(\"Contents:\")\n",
    "#     for filename in os.listdir(data_folder):\n",
    "#         print(\"-\", filename)\n",
    "# else:\n",
    "#     print(f\"Folder not found: {data_folder}\")\n"
   ],
   "id": "76c8dea0f7606991",
   "outputs": [],
   "execution_count": 14
  },
  {
   "metadata": {
    "ExecuteTime": {
     "end_time": "2025-06-11T08:26:19.476711Z",
     "start_time": "2025-06-11T08:26:19.169480Z"
    }
   },
   "cell_type": "code",
   "source": [
    "# Learning lengths\n",
    "x = [50, 100, 150, 200, 250, 300, 350]\n",
    "x_indices = np.arange(len(x))\n",
    "bar_width = 0.35\n",
    "\n",
    "# Plotting\n",
    "fig, ax = plt.subplots()\n",
    "ax.spines[\"left\"].set_linewidth(1.5)\n",
    "ax.spines[\"right\"].set_linewidth(1.5)\n",
    "ax.spines[\"top\"].set_linewidth(1.5)\n",
    "ax.spines[\"bottom\"].set_linewidth(1.5)\n",
    "\n",
    "# Bars for each condition\n",
    "bars1 = ax.bar(x_indices - bar_width / 2, organic_performance_across_episodes,\n",
    "               width=bar_width, label='Organic', color='gray')\n",
    "bars2 = ax.bar(x_indices + bar_width / 2, pair_performance_across_episodes,\n",
    "               width=bar_width, label='Pair', edgecolor='black', linewidth=1.2, fill=False)\n",
    "\n",
    "# Labels and ticks\n",
    "ax.set_xlabel('Learning Length', fontweight='bold', fontsize=12)\n",
    "ax.set_ylabel('Performance', fontweight='bold', fontsize=12)\n",
    "ax.set_xticks(x_indices)\n",
    "ax.set_xticklabels(x)\n",
    "ax.legend(frameon=False, fontsize=12, loc='upper left', bbox_to_anchor=(1, 1))\n",
    "\n",
    "# Save and show\n",
    "plt.tight_layout()\n",
    "plt.savefig(data_folder + r\"\\Pair_Organic_performance_histogram.png\", transparent=True, dpi=300)\n",
    "plt.show()\n",
    "plt.clf()\n"
   ],
   "id": "ba8b2f61da50899d",
   "outputs": [
    {
     "data": {
      "text/plain": [
       "<Figure size 432x288 with 1 Axes>"
      ],
      "image/png": "[encoded data removed]"
     },
     "metadata": {
      "needs_background": "light"
     },
     "output_type": "display_data"
    },
    {
     "data": {
      "text/plain": [
       "<Figure size 432x288 with 0 Axes>"
      ]
     },
     "metadata": {},
     "output_type": "display_data"
    }
   ],
   "execution_count": 15
  },
  {
   "metadata": {
    "ExecuteTime": {
     "end_time": "2025-06-11T08:26:04.989460Z",
     "start_time": "2025-06-11T08:26:04.632457Z"
    }
   },
   "cell_type": "code",
   "source": [
    "# Learning lengths\n",
    "# x = [50, 100, 150, 200, 250, 300, 350, 400, 450]\n",
    "x_indices = np.arange(len(x))\n",
    "bar_width = 0.35\n",
    "\n",
    "# Plotting\n",
    "fig, ax = plt.subplots()\n",
    "ax.spines[\"left\"].set_linewidth(1.5)\n",
    "ax.spines[\"right\"].set_linewidth(1.5)\n",
    "ax.spines[\"top\"].set_linewidth(1.5)\n",
    "ax.spines[\"bottom\"].set_linewidth(1.5)\n",
    "\n",
    "# Bars for each condition\n",
    "bars1 = ax.bar(x_indices - bar_width / 2, organic_steps_across_episodes,\n",
    "               width=bar_width, label='Organic', color='gray')\n",
    "bars2 = ax.bar(x_indices + bar_width / 2, pair_steps_across_episodes,\n",
    "               width=bar_width, label='Pair', edgecolor='black', linewidth=1.2, fill=False)\n",
    "\n",
    "# Labels and ticks\n",
    "ax.set_xlabel('Learning Length', fontweight='bold', fontsize=12)\n",
    "ax.set_ylabel('Steps to Solution', fontweight='bold', fontsize=12)\n",
    "ax.set_xticks(x_indices)\n",
    "ax.set_xticklabels(x)\n",
    "ax.legend(frameon=False, fontsize=12, loc='center left', bbox_to_anchor=(1, 0.5))\n",
    "\n",
    "# Save and show\n",
    "plt.tight_layout()\n",
    "plt.savefig(data_folder + r\"\\Steps_across_episodes_histogram.png\", transparent=True, dpi=300)\n",
    "plt.show()\n",
    "plt.clf()\n",
    "\n",
    "# Optional: print values\n",
    "print(pair_steps_across_episodes)\n",
    "print(organic_steps_across_episodes)"
   ],
   "id": "330e8a6db8ae06b3",
   "outputs": [
    {
     "data": {
      "text/plain": [
       "<Figure size 432x288 with 1 Axes>"
      ],
      "image/png": "[encoded data removed]"
     },
     "metadata": {
      "needs_background": "light"
     },
     "output_type": "display_data"
    },
    {
     "name": "stdout",
     "output_type": "stream",
     "text": [
      "[0.0, 0.0, 0.0, 0.0, 0.0, 0.0, 0.0]\n",
      "[0.0, 0.0, 0.0, 0.0, 0.0, 0.0, 0.0]\n"
     ]
    },
    {
     "data": {
      "text/plain": [
       "<Figure size 432x288 with 0 Axes>"
      ]
     },
     "metadata": {},
     "output_type": "display_data"
    }
   ],
   "execution_count": 10
  },
  {
   "metadata": {
    "ExecuteTime": {
     "end_time": "2025-06-11T08:26:05.348460Z",
     "start_time": "2025-06-11T08:26:05.039459Z"
    }
   },
   "cell_type": "code",
   "source": [
    "# Knowledge\n",
    "# x = [50, 100, 150, 200, 250, 300, 350, 400, 450]\n",
    "# x = [50, 100, 150]\n",
    "fig, ax = plt.subplots()\n",
    "ax.spines[\"left\"].set_linewidth(1.5)\n",
    "ax.spines[\"right\"].set_linewidth(1.5)\n",
    "ax.spines[\"top\"].set_linewidth(1.5)\n",
    "ax.spines[\"bottom\"].set_linewidth(1.5)\n",
    "plt.plot(x, pair_knowledge_across_episodes, \"k--s\", label=\"Pair\")\n",
    "plt.plot(x, organic_knowledge_across_episodes, \"k-v\", label=\"Organic\")\n",
    "plt.xlabel('Learning Length', fontweight='bold', fontsize=12)\n",
    "plt.ylabel('Informativeness', fontweight='bold', fontsize=12)\n",
    "# plt.xticks(x)\n",
    "# ax.set_ylim(0.50, 0.95)\n",
    "plt.legend(frameon=False, ncol=1, fontsize=12)\n",
    "plt.savefig(data_folder + r\"\\Knowledge_across_episodes.png\", transparent=True, dpi=300)\n",
    "plt.show()\n",
    "plt.clf()\n",
    "print(pair_knowledge_across_episodes)"
   ],
   "id": "fd7c9e78bc7b7a81",
   "outputs": [
    {
     "data": {
      "text/plain": [
       "<Figure size 432x288 with 1 Axes>"
      ],
      "image/png": "[encoded data removed]"
     },
     "metadata": {
      "needs_background": "light"
     },
     "output_type": "display_data"
    },
    {
     "name": "stdout",
     "output_type": "stream",
     "text": [
      "[0.0, 0.0, 0.0, 0.0, 0.0, 0.0, 0.0]\n"
     ]
    },
    {
     "data": {
      "text/plain": [
       "<Figure size 432x288 with 0 Axes>"
      ]
     },
     "metadata": {},
     "output_type": "display_data"
    }
   ],
   "execution_count": 11
  },
  {
   "metadata": {
    "ExecuteTime": {
     "end_time": "2025-06-11T08:26:05.695495Z",
     "start_time": "2025-06-11T08:26:05.381469Z"
    }
   },
   "cell_type": "code",
   "source": [
    "# Knowledge\n",
    "# x = [50, 100, 150, 200, 250, 300, 350, 400, 450]\n",
    "# x = [50, 100, 150]\n",
    "fig, ax = plt.subplots()\n",
    "ax.spines[\"left\"].set_linewidth(1.5)\n",
    "ax.spines[\"right\"].set_linewidth(1.5)\n",
    "ax.spines[\"top\"].set_linewidth(1.5)\n",
    "ax.spines[\"bottom\"].set_linewidth(1.5)\n",
    "plt.plot(x, pair_knowledge_quality_across_episodes, \"k--s\", label=\"Pair\")\n",
    "plt.plot(x, organic_knowledge_quality_across_episodes, \"k-v\", label=\"Organic\")\n",
    "plt.xlabel('Learning Length', fontweight='bold', fontsize=12)\n",
    "plt.ylabel('Representation Quality', fontweight='bold', fontsize=12)\n",
    "# plt.xticks(x)\n",
    "# ax.set_ylim(0.50, 0.95)\n",
    "plt.legend(frameon=False, ncol=1, fontsize=12)\n",
    "plt.savefig(data_folder + r\"\\Knowledge_quality_across_episodes.png\", transparent=True, dpi=300)\n",
    "plt.show()\n",
    "plt.clf()\n",
    "print(pair_knowledge_across_episodes)"
   ],
   "id": "e0d61b24a9d32c08",
   "outputs": [
    {
     "data": {
      "text/plain": [
       "<Figure size 432x288 with 1 Axes>"
      ],
      "image/png": "[encoded data removed]"
     },
     "metadata": {
      "needs_background": "light"
     },
     "output_type": "display_data"
    },
    {
     "name": "stdout",
     "output_type": "stream",
     "text": [
      "[0.0, 0.0, 0.0, 0.0, 0.0, 0.0, 0.0]\n"
     ]
    },
    {
     "data": {
      "text/plain": [
       "<Figure size 432x288 with 0 Axes>"
      ]
     },
     "metadata": {},
     "output_type": "display_data"
    }
   ],
   "execution_count": 12
  },
  {
   "metadata": {
    "ExecuteTime": {
     "end_time": "2025-06-11T08:26:05.742465Z",
     "start_time": "2025-06-11T08:26:05.728464Z"
    }
   },
   "cell_type": "code",
   "source": "",
   "id": "d8f1536d07ee1e96",
   "outputs": [],
   "execution_count": null
  }
 ],
 "metadata": {
  "kernelspec": {
   "display_name": "Python 3",
   "language": "python",
   "name": "python3"
  },
  "language_info": {
   "codemirror_mode": {
    "name": "ipython",
    "version": 2
   },
   "file_extension": ".py",
   "mimetype": "text/x-python",
   "name": "python",
   "nbconvert_exporter": "python",
   "pygments_lexer": "ipython2",
   "version": "2.7.6"
  }
 },
 "nbformat": 4,
 "nbformat_minor": 5
}
