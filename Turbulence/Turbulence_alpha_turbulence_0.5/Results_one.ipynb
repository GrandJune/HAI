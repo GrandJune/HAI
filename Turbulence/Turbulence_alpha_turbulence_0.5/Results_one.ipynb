{
 "cells": [
  {
   "metadata": {
    "ExecuteTime": {
     "end_time": "2025-06-11T19:01:44.053810Z",
     "start_time": "2025-06-11T19:01:44.024811Z"
    }
   },
   "cell_type": "code",
   "source": [
    "import matplotlib.pyplot as plt\n",
    "import pickle\n",
    "import numpy as np\n",
    "legend_properties = {'weight':'bold'}\n",
    "data_folder = r\"E:\\data\\hai-0520\\Turbulence_5\\Turbulence_alpha_turbulence_0.5_4_350\"\n",
    "\n",
    "organic_performance_file = data_folder + r\"\\organic_performance_across_episodes\"\n",
    "organic_knowledge_file = data_folder + r\"\\organic_knowledge_across_episodes\"\n",
    "organic_steps_file = data_folder + r\"\\organic_steps_across_episodes\"\n",
    "organic_knowledge_quality_file = data_folder + r\"\\organic_knowledge_quality_across_episodes\"\n",
    "\n",
    "pair_performance_file = data_folder + r\"\\pair_performance_across_episodes\"\n",
    "pair_knowledge_file = data_folder + r\"\\pair_knowledge_across_episodes\"\n",
    "pair_steps_file = data_folder + r\"\\pair_steps_across_episodes\"\n",
    "pair_knowledge_quality_file = data_folder + r\"\\pair_knowledge_quality_across_episodes\"\n",
    "\n",
    "with open(organic_performance_file, 'rb') as infile:\n",
    "    organic_performance_across_episodes = pickle.load(infile)\n",
    "with open(organic_knowledge_file, 'rb') as infile:\n",
    "    organic_knowledge_across_episodes = pickle.load(infile)\n",
    "with open(organic_steps_file, 'rb') as infile:\n",
    "    organic_steps_across_episodes = pickle.load(infile)\n",
    "with open(organic_knowledge_quality_file, 'rb') as infile:\n",
    "    organic_knowledge_quality_across_episodes = pickle.load(infile)\n",
    "\n",
    "with open(pair_performance_file, 'rb') as infile:\n",
    "    pair_performance_across_episodes = pickle.load(infile)\n",
    "with open(pair_knowledge_file, 'rb') as infile:\n",
    "    pair_knowledge_across_episodes = pickle.load(infile)\n",
    "with open(pair_steps_file, 'rb') as infile:\n",
    "    pair_steps_across_episodes = pickle.load(infile)\n",
    "with open(pair_knowledge_quality_file, 'rb') as infile:\n",
    "    pair_knowledge_quality_across_episodes = pickle.load(infile)"
   ],
   "id": "859d4dd2c05811a0",
   "outputs": [],
   "execution_count": 4
  },
  {
   "metadata": {
    "ExecuteTime": {
     "end_time": "2025-06-11T18:35:29.981960Z",
     "start_time": "2025-06-11T18:35:29.971961Z"
    }
   },
   "cell_type": "code",
   "source": [
    "# Performance\n",
    "# x = range(len(pair_performance_across_episodes))\n",
    "# x = [50, 100, 150, 200, 250, 300, 350, 400, 450]\n",
    "# x = [50, 100, 150, 200, 250, 300, 350]\n",
    "# fig, ax = plt.subplots()\n",
    "# ax.spines[\"left\"].set_linewidth(1.5)\n",
    "# ax.spines[\"right\"].set_linewidth(1.5)\n",
    "# ax.spines[\"top\"].set_linewidth(1.5)\n",
    "# ax.spines[\"bottom\"].set_linewidth(1.5)\n",
    "# plt.plot(x, pair_performance_across_episodes, \"k--\", label=\"Pair\")\n",
    "# plt.plot(x, organic_performance_across_episodes, \"k-\", label=\"Organic\")\n",
    "# plt.xlabel('Learning Length', fontweight='bold', fontsize=12)\n",
    "# plt.ylabel('Performance', fontweight='bold', fontsize=12)\n",
    "# # plt.xticks(x)\n",
    "# # ax.set_ylim(0.50, 0.95)\n",
    "# plt.legend(frameon=False, ncol=1, fontsize=12)\n",
    "# plt.savefig(data_folder + r\"\\Performance_across_turbulence.png\", transparent=True, dpi=300)\n",
    "# plt.show()\n",
    "# plt.clf()\n",
    "print(pair_performance_across_episodes)\n",
    "print(organic_performance_across_episodes)"
   ],
   "id": "dd08002e8602bebf",
   "outputs": [
    {
     "name": "stdout",
     "output_type": "stream",
     "text": [
      "[0.5675999999999998]\n",
      "[0.7358000000000001]\n"
     ]
    }
   ],
   "execution_count": 18
  },
  {
   "metadata": {
    "ExecuteTime": {
     "end_time": "2025-06-11T19:01:51.697341Z",
     "start_time": "2025-06-11T19:01:51.308335Z"
    }
   },
   "cell_type": "code",
   "source": [
    "# Histogram\n",
    "# x = list(range(1, len(organic_performance_across_episodes) + 1))\n",
    "x = [350]\n",
    "# x = [50, 100, 150, 200, 250, 300, 350]\n",
    "x_indices = np.arange(len(x))\n",
    "bar_width = 0.35\n",
    "\n",
    "# Plotting\n",
    "fig, ax = plt.subplots()\n",
    "ax.spines[\"left\"].set_linewidth(1.5)\n",
    "ax.spines[\"right\"].set_linewidth(1.5)\n",
    "ax.spines[\"top\"].set_linewidth(1.5)\n",
    "ax.spines[\"bottom\"].set_linewidth(1.5)\n",
    "\n",
    "# Bars for each condition\n",
    "bars1 = ax.bar(x_indices - bar_width / 2, organic_performance_across_episodes,\n",
    "               width=bar_width, label='Organic', color='gray')\n",
    "bars2 = ax.bar(x_indices + bar_width / 2, pair_performance_across_episodes,\n",
    "               width=bar_width, label='Pair', edgecolor='black', linewidth=1.2, fill=False)\n",
    "\n",
    "# Labels and ticks\n",
    "ax.set_xlabel('Learning Length', fontweight='bold', fontsize=12)\n",
    "ax.set_ylabel('Performance', fontweight='bold', fontsize=12)\n",
    "ax.set_xticks(x_indices)\n",
    "ax.set_xticklabels(x)\n",
    "ax.legend(frameon=False, fontsize=12, loc='upper left', bbox_to_anchor=(1, 1))\n",
    "\n",
    "\n",
    "# Save and show\n",
    "plt.tight_layout()\n",
    "plt.savefig(data_folder + r\"\\Pair_Organic_performance_histogram.png\", transparent=True, dpi=300)\n",
    "plt.show()\n",
    "plt.clf()\n",
    "\n",
    "print(pair_performance_across_episodes)\n",
    "print(organic_performance_across_episodes)\n"
   ],
   "id": "ec3df1b1bf725086",
   "outputs": [
    {
     "data": {
      "text/plain": [
       "<Figure size 432x288 with 1 Axes>"
      ],
      "image/png": "[encoded data removed]"
     },
     "metadata": {
      "needs_background": "light"
     },
     "output_type": "display_data"
    },
    {
     "name": "stdout",
     "output_type": "stream",
     "text": [
      "[0.8889999999999997]\n",
      "[0.7065999999999998]\n"
     ]
    },
    {
     "data": {
      "text/plain": [
       "<Figure size 432x288 with 0 Axes>"
      ]
     },
     "metadata": {},
     "output_type": "display_data"
    }
   ],
   "execution_count": 5
  },
  {
   "metadata": {
    "ExecuteTime": {
     "end_time": "2025-06-11T19:02:03.343407Z",
     "start_time": "2025-06-11T19:02:03.050258Z"
    }
   },
   "cell_type": "code",
   "source": [
    "# Histogram\n",
    "# x = list(range(1, len(organic_performance_across_episodes) + 1))\n",
    "x = [300]\n",
    "# x = [50, 100, 150, 200, 250, 300, 350]\n",
    "x_indices = np.arange(len(x))\n",
    "bar_width = 0.35\n",
    "\n",
    "# Plotting\n",
    "fig, ax = plt.subplots()\n",
    "ax.spines[\"left\"].set_linewidth(1.5)\n",
    "ax.spines[\"right\"].set_linewidth(1.5)\n",
    "ax.spines[\"top\"].set_linewidth(1.5)\n",
    "ax.spines[\"bottom\"].set_linewidth(1.5)\n",
    "\n",
    "# Bars for each condition\n",
    "bars1 = ax.bar(x_indices - bar_width / 2, organic_steps_across_episodes,\n",
    "               width=bar_width, label='Organic', color='gray')\n",
    "bars2 = ax.bar(x_indices + bar_width / 2, pair_steps_across_episodes,\n",
    "               width=bar_width, label='Pair', edgecolor='black', linewidth=1.2, fill=False)\n",
    "\n",
    "# Labels and ticks\n",
    "ax.set_xlabel('Learning Length', fontweight='bold', fontsize=12)\n",
    "ax.set_ylabel('Steps', fontweight='bold', fontsize=12)\n",
    "ax.set_xticks(x_indices)\n",
    "ax.set_xticklabels(x)\n",
    "ax.legend(frameon=False, fontsize=12, loc='upper left', bbox_to_anchor=(1, 1))\n",
    "\n",
    "\n",
    "# Save and show\n",
    "plt.tight_layout()\n",
    "plt.savefig(data_folder + r\"\\Pair_Organic_steps_histogram.png\", transparent=True, dpi=300)\n",
    "plt.show()\n",
    "plt.clf()\n",
    "\n",
    "print(pair_performance_across_episodes)\n",
    "print(organic_performance_across_episodes)\n"
   ],
   "id": "330e8a6db8ae06b3",
   "outputs": [
    {
     "data": {
      "text/plain": [
       "<Figure size 432x288 with 1 Axes>"
      ],
      "image/png": "[encoded data removed]"
     },
     "metadata": {
      "needs_background": "light"
     },
     "output_type": "display_data"
    },
    {
     "name": "stdout",
     "output_type": "stream",
     "text": [
      "[0.8889999999999997]\n",
      "[0.7065999999999998]\n"
     ]
    },
    {
     "data": {
      "text/plain": [
       "<Figure size 432x288 with 0 Axes>"
      ]
     },
     "metadata": {},
     "output_type": "display_data"
    }
   ],
   "execution_count": 6
  },
  {
   "metadata": {
    "ExecuteTime": {
     "end_time": "2025-06-11T18:34:38.465529Z",
     "start_time": "2025-06-11T18:34:38.108151Z"
    }
   },
   "cell_type": "code",
   "source": [
    "# # Knowledge I\n",
    "# x = [50, 100, 150, 200, 250, 300, 350, 400, 450]\n",
    "plt.plot(x, pair_knowledge_across_episodes, \"k--\", label=\"Pair\")\n",
    "plt.plot(x, organic_knowledge_across_episodes, \"k-\", label=\"Organic\")\n",
    "plt.xlabel('Learning Length', fontweight='bold', fontsize=12)\n",
    "plt.ylabel('Informativeness', fontweight='bold', fontsize=12)\n",
    "# plt.xticks(x)\n",
    "# ax.set_ylim(0.50, 0.95)\n",
    "plt.legend(frameon=False, ncol=1, fontsize=12)\n",
    "plt.savefig(data_folder + r\"\\Knowledge_across_episodes.png\", transparent=True, dpi=300)\n",
    "plt.show()\n",
    "plt.clf()\n",
    "# print(pair_knowledge_across_episodes)"
   ],
   "id": "fd7c9e78bc7b7a81",
   "outputs": [
    {
     "data": {
      "text/plain": [
       "<Figure size 432x288 with 1 Axes>"
      ],
      "image/png": "[encoded data removed]"
     },
     "metadata": {
      "needs_background": "light"
     },
     "output_type": "display_data"
    },
    {
     "data": {
      "text/plain": [
       "<Figure size 432x288 with 0 Axes>"
      ]
     },
     "metadata": {},
     "output_type": "display_data"
    }
   ],
   "execution_count": 14
  },
  {
   "metadata": {
    "ExecuteTime": {
     "end_time": "2025-06-11T18:34:42.217815Z",
     "start_time": "2025-06-11T18:34:41.869832Z"
    }
   },
   "cell_type": "code",
   "source": [
    "# # Knowledge II\n",
    "# x = [50, 100, 150, 200, 250, 300, 350, 400, 450]\n",
    "plt.plot(x, pair_knowledge_quality_across_episodes, \"k--\", label=\"Pair\")\n",
    "plt.plot(x, organic_knowledge_quality_across_episodes, \"k-\", label=\"Organic\")\n",
    "plt.xlabel('Learning Length', fontweight='bold', fontsize=12)\n",
    "plt.ylabel('Representation Quality', fontweight='bold', fontsize=12)\n",
    "# plt.xticks(x)\n",
    "# ax.set_ylim(0.50, 0.95)\n",
    "plt.legend(frameon=False, ncol=1, fontsize=12)\n",
    "plt.savefig(data_folder + r\"\\Knowledge_quality_across_episodes.png\", transparent=True, dpi=300)\n",
    "plt.show()\n",
    "plt.clf()\n",
    "# print(pair_knowledge_across_episodes)"
   ],
   "id": "e0d61b24a9d32c08",
   "outputs": [
    {
     "data": {
      "text/plain": [
       "<Figure size 432x288 with 1 Axes>"
      ],
      "image/png": "[encoded data removed]"
     },
     "metadata": {
      "needs_background": "light"
     },
     "output_type": "display_data"
    },
    {
     "data": {
      "text/plain": [
       "<Figure size 432x288 with 0 Axes>"
      ]
     },
     "metadata": {},
     "output_type": "display_data"
    }
   ],
   "execution_count": 15
  },
  {
   "metadata": {
    "ExecuteTime": {
     "end_time": "2025-06-01T13:00:50.710333Z",
     "start_time": "2025-06-01T13:00:50.697298Z"
    }
   },
   "cell_type": "code",
   "source": "",
   "id": "658c9464170ca91a",
   "outputs": [],
   "execution_count": null
  }
 ],
 "metadata": {
  "kernelspec": {
   "display_name": "Python 3",
   "language": "python",
   "name": "python3"
  },
  "language_info": {
   "codemirror_mode": {
    "name": "ipython",
    "version": 2
   },
   "file_extension": ".py",
   "mimetype": "text/x-python",
   "name": "python",
   "nbconvert_exporter": "python",
   "pygments_lexer": "ipython2",
   "version": "2.7.6"
  }
 },
 "nbformat": 4,
 "nbformat_minor": 5
}
