{
 "cells": [
  {
   "cell_type": "code",
   "id": "initial_id",
   "metadata": {
    "collapsed": true,
    "ExecuteTime": {
     "end_time": "2025-06-11T15:40:29.869291Z",
     "start_time": "2025-06-11T15:40:29.856292Z"
    }
   },
   "source": [
    "action_mask = {1023: [3, 7]}\n",
    "cur_state_index = 1023\n",
    "mask_actions = action_mask.get(1023, [])  # returns [3, 7]\n",
    "print(mask_actions)\n",
    "cur_state_index = 511  # not in mask\n",
    "mask_actions = action_mask.get(511, [])  # returns []\n",
    "print(mask_actions)\n"
   ],
   "outputs": [
    {
     "name": "stdout",
     "output_type": "stream",
     "text": [
      "[3, 7]\n",
      "[]\n"
     ]
    }
   ],
   "execution_count": 4
  },
  {
   "metadata": {},
   "cell_type": "code",
   "outputs": [],
   "execution_count": null,
   "source": "",
   "id": "f85b6ed896a8c2cc"
  }
 ],
 "metadata": {
  "kernelspec": {
   "display_name": "Python 3",
   "language": "python",
   "name": "python3"
  },
  "language_info": {
   "codemirror_mode": {
    "name": "ipython",
    "version": 2
   },
   "file_extension": ".py",
   "mimetype": "text/x-python",
   "name": "python",
   "nbconvert_exporter": "python",
   "pygments_lexer": "ipython2",
   "version": "2.7.6"
  }
 },
 "nbformat": 4,
 "nbformat_minor": 5
}
